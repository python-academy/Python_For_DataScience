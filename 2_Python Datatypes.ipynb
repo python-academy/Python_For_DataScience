{
 "cells": [
  {
   "cell_type": "markdown",
   "id": "915793d4-2d76-4523-8c5c-93815ad7ceb4",
   "metadata": {},
   "source": [
    "## Try 2.2.1: Lists."
   ]
  },
  {
   "cell_type": "markdown",
   "id": "11e1d2a4-24e0-443c-a2dc-11cc204366c7",
   "metadata": {},
   "source": [
    "* **Click the double-right arrow to restart the kernel and run all cells.**\n",
    "* **Examine the code below.**\n",
    "\n",
    "* **In cell [4], change the argument of the pop() method to 1. Restart the kernel and run all cells to see the changes.**"
   ]
  },
  {
   "cell_type": "code",
   "execution_count": 3,
   "id": "973f32b2-7d91-4ae8-a639-10ba276f3adb",
   "metadata": {},
   "outputs": [],
   "source": [
    "# Create a list\n",
    "list = [33, 2, 14]"
   ]
  },
  {
   "cell_type": "code",
   "execution_count": 5,
   "id": "09ffa612-c8b1-446e-97ab-eb983c950f5b",
   "metadata": {},
   "outputs": [
    {
     "data": {
      "text/plain": [
       "3"
      ]
     },
     "execution_count": 5,
     "metadata": {},
     "output_type": "execute_result"
    }
   ],
   "source": [
    "# Find the length of the list\n",
    "len(list)"
   ]
  },
  {
   "cell_type": "code",
   "execution_count": 7,
   "id": "3d8c08b2-01a3-433f-b319-76c2eb5788bb",
   "metadata": {},
   "outputs": [
    {
     "data": {
      "text/plain": [
       "[33, 2, 14, 'apples']"
      ]
     },
     "execution_count": 7,
     "metadata": {},
     "output_type": "execute_result"
    }
   ],
   "source": [
    "# Append 'apples' to the list\n",
    "list.append('apples')\n",
    "list"
   ]
  },
  {
   "cell_type": "code",
   "execution_count": 9,
   "id": "5fc2cd29-90d8-4d65-a82c-3869c233d7cd",
   "metadata": {},
   "outputs": [
    {
     "data": {
      "text/plain": [
       "33"
      ]
     },
     "execution_count": 9,
     "metadata": {},
     "output_type": "execute_result"
    }
   ],
   "source": [
    "# Remove and display the first list element\n",
    "list.pop(0)"
   ]
  },
  {
   "cell_type": "code",
   "execution_count": 11,
   "id": "3be9ac47-e2ff-432f-bd61-0037c150bfaf",
   "metadata": {},
   "outputs": [
    {
     "data": {
      "text/plain": [
       "[2, 14, 'apples']"
      ]
     },
     "execution_count": 11,
     "metadata": {},
     "output_type": "execute_result"
    }
   ],
   "source": [
    "# Print the list\n",
    "list\n",
    "# Current list contains 2, 14, and 'apples'"
   ]
  },
  {
   "cell_type": "code",
   "execution_count": 13,
   "id": "11ac4e2e-5b30-44a0-8d02-35a8173ee6d9",
   "metadata": {},
   "outputs": [
    {
     "data": {
      "text/plain": [
       "[2, 'apples']"
      ]
     },
     "execution_count": 13,
     "metadata": {},
     "output_type": "execute_result"
    }
   ],
   "source": [
    "# Remove 14 from the list\n",
    "list.remove(14)\n",
    "list"
   ]
  },
  {
   "cell_type": "code",
   "execution_count": 15,
   "id": "4867aa2d-b873-417a-b6e6-ae97b4873bbd",
   "metadata": {},
   "outputs": [
    {
     "data": {
      "text/plain": [
       "[2, 'apples', 'bananas', 'pineapples']"
      ]
     },
     "execution_count": 15,
     "metadata": {},
     "output_type": "execute_result"
    }
   ],
   "source": [
    "list + ['bananas', 'pineapples']"
   ]
  },
  {
   "cell_type": "code",
   "execution_count": null,
   "id": "d5e94d28-ed8c-4865-9f21-1fef0351a202",
   "metadata": {},
   "outputs": [],
   "source": []
  },
  {
   "cell_type": "markdown",
   "id": "b30f83f4-8765-4fd7-b05d-7a42cd4934b1",
   "metadata": {},
   "source": [
    "## Try 2.2.2: Tuples and named tuples."
   ]
  },
  {
   "cell_type": "markdown",
   "id": "47ff410c-4b48-47da-a6f0-30296e7b44ff",
   "metadata": {},
   "source": [
    "* **Click the double-right arrow to restart the kernel and run all cells.**\n",
    "* **Examine the code below.**\n",
    "* **In cell [4], uncomment whiteHouse[1] = 50. Restart the kernel and run all cells to see the changes.**"
   ]
  },
  {
   "cell_type": "code",
   "execution_count": null,
   "id": "a5146f69-3616-45a1-a901-d980c5044416",
   "metadata": {},
   "outputs": [],
   "source": [
    "\n"
   ]
  },
  {
   "cell_type": "code",
   "execution_count": 1,
   "id": "f21e73f6-46fb-4dfe-b839-3afbcdc142a6",
   "metadata": {},
   "outputs": [],
   "source": [
    "# Load namedtuple class\n",
    "from collections import namedtuple"
   ]
  },
  {
   "cell_type": "code",
   "execution_count": 2,
   "id": "68bcb6dd-b06d-4569-b10c-6170d79f1b62",
   "metadata": {},
   "outputs": [],
   "source": [
    "# Create a tuple\n",
    "whiteHouse = (38.8977, 77.0366)"
   ]
  },
  {
   "cell_type": "code",
   "execution_count": 3,
   "id": "f9653680-e21c-4afc-93bc-cecbcf388e52",
   "metadata": {},
   "outputs": [
    {
     "name": "stdout",
     "output_type": "stream",
     "text": [
      "Coordinates: (38.8977, 77.0366)\n",
      "Latitude: 38.8977\n",
      "Longitude: 77.0366\n",
      "Tuple length: 2\n"
     ]
    }
   ],
   "source": [
    "# Print tuple elements and length\n",
    "print('Coordinates:', whiteHouse)\n",
    "print('Latitude:', whiteHouse[0])\n",
    "print('Longitude:', whiteHouse[1])\n",
    "print('Tuple length:', len(whiteHouse))"
   ]
  },
  {
   "cell_type": "code",
   "execution_count": 4,
   "id": "2d57c267-9969-4835-9aad-e2c393d602d2",
   "metadata": {},
   "outputs": [],
   "source": [
    "# The commented line below produces an error\n",
    "# whiteHouse[1] = 50"
   ]
  },
  {
   "cell_type": "code",
   "execution_count": 5,
   "id": "56d329fc-da14-4ea2-885e-a42d34864cee",
   "metadata": {},
   "outputs": [
    {
     "data": {
      "text/plain": [
       "Car(make='Chevrolet', model='Blazer', price=32000, horsepower=275, seats=8)"
      ]
     },
     "execution_count": 5,
     "metadata": {},
     "output_type": "execute_result"
    }
   ],
   "source": [
    "# Create a named tuple type Car and object chevyBlazer\n",
    "Car = namedtuple('Car', ['make', 'model', 'price', 'horsepower', 'seats'])\n",
    "chevyBlazer = Car('Chevrolet', 'Blazer', 32000, 275, 8)\n",
    "chevyBlazer"
   ]
  },
  {
   "cell_type": "code",
   "execution_count": 6,
   "id": "32913a24-e535-4c85-86b5-71847aa7c379",
   "metadata": {},
   "outputs": [
    {
     "data": {
      "text/plain": [
       "32000"
      ]
     },
     "execution_count": 6,
     "metadata": {},
     "output_type": "execute_result"
    }
   ],
   "source": [
    "# Display the chevyBlazer's price\n",
    "chevyBlazer.price"
   ]
  },
  {
   "cell_type": "markdown",
   "id": "9a7f7a5d-85fa-4d60-8819-ba6a07ba0960",
   "metadata": {},
   "source": [
    "## Try 2.2.3: Sets.\n",
    "\n"
   ]
  },
  {
   "cell_type": "markdown",
   "id": "bd63953c-ad7b-4db3-a7d9-e53e88ecc229",
   "metadata": {},
   "source": [
    "\n",
    "* **Click the double-right arrow to restart the kernel and run all cells.**\n",
    "\n",
    "* **Examine the code below.**\n",
    "\n",
    "* **Did any of the results give an empty set? Why?**\n",
    "\n",
    "\n",
    "\n"
   ]
  },
  {
   "cell_type": "code",
   "execution_count": null,
   "id": "44fe6f21-04a2-491a-a8c9-90f915248cc4",
   "metadata": {},
   "outputs": [],
   "source": [
    "# Create a set\n",
    "set = {'abc', 'xyz'}"
   ]
  },
  {
   "cell_type": "code",
   "execution_count": null,
   "id": "09e47f2b-cab0-4740-9d7a-40ef0e0829df",
   "metadata": {},
   "outputs": [],
   "source": [
    "# Add 'banana' to the set\n",
    "set.add('banana')\n",
    "set"
   ]
  },
  {
   "cell_type": "code",
   "execution_count": null,
   "id": "1a1bd502-66e7-4843-8007-53fc1bc462fb",
   "metadata": {},
   "outputs": [],
   "source": [
    "# Remove 'abc' from the set\n",
    "set.remove('abc')\n",
    "set"
   ]
  },
  {
   "cell_type": "code",
   "execution_count": null,
   "id": "12fa7cef-a56e-4dc9-ac30-4455ab562ca3",
   "metadata": {},
   "outputs": [],
   "source": [
    "# Remove a random element from the set\n",
    "set.pop()\n",
    "set"
   ]
  },
  {
   "cell_type": "code",
   "execution_count": null,
   "id": "f4734e50-3a70-4fad-b5f3-71077af95837",
   "metadata": {},
   "outputs": [],
   "source": [
    "# Display the union of set and {'xyz', 44}\n",
    "set.union({'xyz', 44})"
   ]
  },
  {
   "cell_type": "code",
   "execution_count": null,
   "id": "1fadb25e-1dfa-4d7a-9079-c3e2d81e8cda",
   "metadata": {},
   "outputs": [],
   "source": [
    "# Display the intersection of set and {'xyz', 44}\n",
    "set.intersection({'xyz', 44})"
   ]
  }
 ],
 "metadata": {
  "kernelspec": {
   "display_name": "Python [conda env:base] *",
   "language": "python",
   "name": "conda-base-py"
  },
  "language_info": {
   "codemirror_mode": {
    "name": "ipython",
    "version": 3
   },
   "file_extension": ".py",
   "mimetype": "text/x-python",
   "name": "python",
   "nbconvert_exporter": "python",
   "pygments_lexer": "ipython3",
   "version": "3.12.7"
  },
  "widgets": {
   "application/vnd.jupyter.widget-state+json": {
    "state": {},
    "version_major": 2,
    "version_minor": 0
   }
  }
 },
 "nbformat": 4,
 "nbformat_minor": 5
}
