{
 "cells": [
  {
   "cell_type": "markdown",
   "id": "cb2521a7-cd5a-4aec-b468-7948f16f896d",
   "metadata": {},
   "source": [
    "## Try 2.3.1: Keyword arguments and default parameters."
   ]
  },
  {
   "cell_type": "code",
   "execution_count": 1,
   "id": "c8e56041-e938-411b-9344-30e717278cfe",
   "metadata": {},
   "outputs": [],
   "source": [
    "# Define function that prints full name\n",
    "def printName(first, last, lastFirst=False):\n",
    "    if lastFirst:\n",
    "        print(last + ', ' + first)\n",
    "    if not lastFirst:\n",
    "        print(first + ' ' + last)"
   ]
  },
  {
   "cell_type": "code",
   "execution_count": 2,
   "id": "cf25e62b-0f17-4a73-8432-3d0cd8568d4c",
   "metadata": {},
   "outputs": [
    {
     "name": "stdout",
     "output_type": "stream",
     "text": [
      "Patel, Dana\n"
     ]
    }
   ],
   "source": [
    "# Call with keyword arguments\n",
    "printName(first='Dana', last='Patel', lastFirst=True)"
   ]
  },
  {
   "cell_type": "code",
   "execution_count": 3,
   "id": "9486f463-df01-4f52-8470-d9a2ab5ee499",
   "metadata": {},
   "outputs": [
    {
     "name": "stdout",
     "output_type": "stream",
     "text": [
      "Patel, Dana\n"
     ]
    }
   ],
   "source": [
    "# Call with positional arguments\n",
    "printName('Dana', 'Patel', True)"
   ]
  },
  {
   "cell_type": "code",
   "execution_count": 4,
   "id": "d5b8f571-359a-42df-8232-aef39edcf438",
   "metadata": {},
   "outputs": [
    {
     "name": "stdout",
     "output_type": "stream",
     "text": [
      "Patel, Dana\n"
     ]
    }
   ],
   "source": [
    "# Call with both keyword and positional arguments\n",
    "printName('Dana', 'Patel', lastFirst=True)"
   ]
  },
  {
   "cell_type": "code",
   "execution_count": 5,
   "id": "a40b3152-b294-41c3-a1c3-9d1503b92450",
   "metadata": {},
   "outputs": [
    {
     "name": "stdout",
     "output_type": "stream",
     "text": [
      "Dana Patel\n"
     ]
    }
   ],
   "source": [
    "# Call with default value\n",
    "printName('Dana', 'Patel')"
   ]
  },
  {
   "cell_type": "markdown",
   "id": "cc472b75-708a-484c-9af1-2fe031c4a9c0",
   "metadata": {},
   "source": [
    "## Challenge Activity| 2.3.1: Python functions"
   ]
  },
  {
   "cell_type": "markdown",
   "id": "0aff247b-30a0-4b49-b0de-73c54c0d8e12",
   "metadata": {},
   "source": [
    "## 1) Print the return value of the function findResult() for x=8 and y=6.\n",
    "\n",
    "## The code provided defines the function."
   ]
  },
  {
   "cell_type": "code",
   "execution_count": null,
   "id": "b76b1719-5a16-43c7-b84d-554ca124e968",
   "metadata": {},
   "outputs": [],
   "source": [
    "# Defines the function findResult\n",
    "def findResult(x, y):\n",
    "    result = x - y\n",
    "    return result\n",
    "\n",
    "# Prints the output of the function findResult() for x=8 and y=6\n",
    "print(# Your code goes here)"
   ]
  },
  {
   "cell_type": "markdown",
   "id": "cfa45546-ccc7-49c5-b4d6-1eaf45bd2d1d",
   "metadata": {},
   "source": [
    "## 2) Fill in the function call so that the output is: 3/21/2029 23:58\n",
    "\n",
    "## The code provided defines the function."
   ]
  },
  {
   "cell_type": "code",
   "execution_count": null,
   "id": "03809ae0-2cb4-4f81-86f4-5b9da02913ef",
   "metadata": {},
   "outputs": [],
   "source": [
    "def showTime(year, month, day, hour, minutes):\n",
    "    print(str(month) + '/' + str(day) + '/' + str(year) + ' ' + str(hour) + ':' + str(minutes))\n",
    "\n",
    "showTime(# Your code goes here)"
   ]
  },
  {
   "cell_type": "markdown",
   "id": "d9c3b439-c8a5-4ce0-aa05-be1c101e1f85",
   "metadata": {},
   "source": [
    "## 3) Write a function header for practice() with parameters u, v, w, in that order, where v has a default value of 5 and w has a default value of 15.\n",
    "\n",
    "## The code provided includes the function body and calls the function with various arguments."
   ]
  },
  {
   "cell_type": "code",
   "execution_count": null,
   "id": "8d1b3926-d3e5-4f62-828f-963716eb5f5a",
   "metadata": {},
   "outputs": [],
   "source": [
    "# Defines the function practice()\n",
    "# Your code goes here\n",
    "    print(str(w) + '/' + str(u) + '/' + str(v))\n",
    "    \n",
    "practice(4, 7)\n",
    "practice(v=18, u=19)\n",
    "practice(w=7, u=3)"
   ]
  },
  {
   "cell_type": "markdown",
   "id": "f73bbe50-9758-42bb-9b57-b1e6fbc53143",
   "metadata": {},
   "source": [
    "## 4)\n",
    "* **Create the object subFirst with value 9.**\n",
    "* **Create the object subSecond with value 22.**\n",
    "* **Print the return value of the function calculation() using subtract, subFirst, subSecond, and 17 as arguments.**\n",
    "\n",
    "**The code provided defines the functions.**"
   ]
  },
  {
   "cell_type": "code",
   "execution_count": null,
   "id": "86227704-efad-43b5-acfc-0bc41584eb40",
   "metadata": {},
   "outputs": [],
   "source": [
    "# Defines the function subtract\n",
    "def subtract(x, y):\n",
    "    result = x - y\n",
    "    return result\n",
    "\n",
    "# Defines the function calculation\n",
    "def calculation(operation, x, y, z):\n",
    "     return operation(x, y) + z\n",
    "\n",
    "# Creates an object called subFirst with value 9\n",
    "# Your code goes here\n",
    "\n",
    "# Creates an object called subSecond with value 22\n",
    "# Your code goes here\n",
    "\n",
    "# Prints the output of the function calculation() using subtract, subFirst, subSecond, and 17 as arguments\n",
    "print(# Your code goes here)"
   ]
  }
 ],
 "metadata": {
  "kernelspec": {
   "display_name": "Python [conda env:base] *",
   "language": "python",
   "name": "conda-base-py"
  },
  "language_info": {
   "codemirror_mode": {
    "name": "ipython",
    "version": 3
   },
   "file_extension": ".py",
   "mimetype": "text/x-python",
   "name": "python",
   "nbconvert_exporter": "python",
   "pygments_lexer": "ipython3",
   "version": "3.12.7"
  },
  "vscode": {
   "interpreter": {
    "hash": "c56527485b7c9dd36c8c8808345694ae9d0a642c0f00dfb6356f9a65494ceb50"
   }
  },
  "widgets": {
   "application/vnd.jupyter.widget-state+json": {
    "state": {},
    "version_major": 2,
    "version_minor": 0
   }
  }
 },
 "nbformat": 4,
 "nbformat_minor": 5
}
