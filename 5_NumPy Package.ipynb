{
 "cells": [
  {
   "cell_type": "markdown",
   "id": "b29f4574-9bb1-4360-ba27-bccf1a6dbcb7",
   "metadata": {},
   "source": [
    "# 2.5.1 Arrays"
   ]
  },
  {
   "cell_type": "code",
   "execution_count": 1,
   "id": "7dbef033-add2-4930-aa1f-ebf2e46c1a72",
   "metadata": {},
   "outputs": [],
   "source": [
    "# Load NumPy package\n",
    "import numpy as np"
   ]
  },
  {
   "cell_type": "code",
   "execution_count": 3,
   "id": "fb63be33-5645-4a54-83c5-1c577b09a7b0",
   "metadata": {},
   "outputs": [],
   "source": [
    "# Create two-dimensional array\n",
    "myArray = np.array([[10, 20, 30], [210, 220, 230]])"
   ]
  },
  {
   "cell_type": "code",
   "execution_count": 5,
   "id": "4ad9ecfa-ddd9-4e85-9d0e-e3bf93ad70dc",
   "metadata": {},
   "outputs": [
    {
     "data": {
      "text/plain": [
       "array([[ 10,  20,  30],\n",
       "       [210, 220, 230]])"
      ]
     },
     "execution_count": 5,
     "metadata": {},
     "output_type": "execute_result"
    }
   ],
   "source": [
    "# Display the array\n",
    "myArray"
   ]
  },
  {
   "cell_type": "code",
   "execution_count": 7,
   "id": "1b0801b6-418d-46dd-af09-9b6690627f88",
   "metadata": {},
   "outputs": [
    {
     "data": {
      "text/plain": [
       "(2, 3)"
      ]
     },
     "execution_count": 7,
     "metadata": {},
     "output_type": "execute_result"
    }
   ],
   "source": [
    "# Display the shape\n",
    "myArray.shape"
   ]
  },
  {
   "cell_type": "code",
   "execution_count": 9,
   "id": "5dfdb27c-feec-456c-a24f-b8eff0b36854",
   "metadata": {},
   "outputs": [
    {
     "data": {
      "text/plain": [
       "6"
      ]
     },
     "execution_count": 9,
     "metadata": {},
     "output_type": "execute_result"
    }
   ],
   "source": [
    "# Display the size\n",
    "myArray.size"
   ]
  },
  {
   "cell_type": "code",
   "execution_count": 11,
   "id": "29012412-cf27-41fb-aaff-f8c9c54b9840",
   "metadata": {},
   "outputs": [
    {
     "data": {
      "text/plain": [
       "230"
      ]
     },
     "execution_count": 11,
     "metadata": {},
     "output_type": "execute_result"
    }
   ],
   "source": [
    "# Access the second row and third column\n",
    "myArray[1, 2]"
   ]
  },
  {
   "cell_type": "code",
   "execution_count": 13,
   "id": "a154a15e-b6cd-4226-b7dd-59ad35a282bd",
   "metadata": {},
   "outputs": [
    {
     "data": {
      "text/plain": [
       "array([10, 20, 30])"
      ]
     },
     "execution_count": 13,
     "metadata": {},
     "output_type": "execute_result"
    }
   ],
   "source": [
    "# Access the first row\n",
    "myArray[0, :]"
   ]
  },
  {
   "cell_type": "code",
   "execution_count": 15,
   "id": "f82a855a-3ab3-4b29-9d87-bd9c31f1ef6f",
   "metadata": {},
   "outputs": [
    {
     "data": {
      "text/plain": [
       "3"
      ]
     },
     "execution_count": 15,
     "metadata": {},
     "output_type": "execute_result"
    }
   ],
   "source": [
    "# Access the first row's size\n",
    "myArray[0, :].size"
   ]
  },
  {
   "cell_type": "markdown",
   "id": "74f6c7c0-fa59-4ceb-a71a-617af6719ddc",
   "metadata": {},
   "source": [
    "## 2.5.2 Array functions"
   ]
  },
  {
   "cell_type": "code",
   "execution_count": 18,
   "id": "b17d800e-a69b-4904-b457-c1d00f247bc0",
   "metadata": {},
   "outputs": [],
   "source": [
    "# Create array\n",
    "array1 = np.array([['a', 'a'], ['b', 'b'], ['c', 'c']])"
   ]
  },
  {
   "cell_type": "code",
   "execution_count": 20,
   "id": "b5c2824c-b78b-45e8-9d83-7b573e659536",
   "metadata": {},
   "outputs": [
    {
     "data": {
      "text/plain": [
       "array([['a', 'a'],\n",
       "       ['b', 'b'],\n",
       "       ['c', 'c'],\n",
       "       ['z', 'z']], dtype='<U1')"
      ]
     },
     "execution_count": 20,
     "metadata": {},
     "output_type": "execute_result"
    }
   ],
   "source": [
    "# Insert 'z's in row 3\n",
    "np.insert(array1, 3, 'z', axis=0)"
   ]
  },
  {
   "cell_type": "markdown",
   "id": "ad553f61-764b-4924-9a7c-d4471e45170f",
   "metadata": {},
   "source": [
    "## 2.5.3: Shape functions "
   ]
  },
  {
   "cell_type": "code",
   "execution_count": 23,
   "id": "1ee1dbe7-0543-4e32-8618-fdcf68bdd733",
   "metadata": {},
   "outputs": [
    {
     "data": {
      "text/plain": [
       "array([[1, 2],\n",
       "       [3, 4]])"
      ]
     },
     "execution_count": 23,
     "metadata": {},
     "output_type": "execute_result"
    }
   ],
   "source": [
    "# Create an array\n",
    "array1 = np.array([[1, 2], [3, 4]])\n",
    "array1"
   ]
  },
  {
   "cell_type": "code",
   "execution_count": 25,
   "id": "f6b5b975-8155-4e9a-9bf6-bcaf3d25b409",
   "metadata": {},
   "outputs": [
    {
     "data": {
      "text/plain": [
       "array([[1, 2, 3, 4]])"
      ]
     },
     "execution_count": 25,
     "metadata": {},
     "output_type": "execute_result"
    }
   ],
   "source": [
    "# Return a flattened array\n",
    "np.reshape(array1, (1, 4))"
   ]
  },
  {
   "cell_type": "code",
   "execution_count": 27,
   "id": "f44365a8-89d5-4e08-8331-31c0843feabe",
   "metadata": {},
   "outputs": [
    {
     "data": {
      "text/plain": [
       "array([[1, 2],\n",
       "       [3, 4],\n",
       "       [5, 6]])"
      ]
     },
     "execution_count": 27,
     "metadata": {},
     "output_type": "execute_result"
    }
   ],
   "source": [
    "# Create another array\n",
    "array2 = np.array([[1, 2], [3, 4], [5, 6]])\n",
    "array2"
   ]
  },
  {
   "cell_type": "code",
   "execution_count": 29,
   "id": "34e17c17-2c54-4f19-acca-6ffe8fd33eeb",
   "metadata": {},
   "outputs": [
    {
     "data": {
      "text/plain": [
       "array([1, 2, 3, 4, 5, 6])"
      ]
     },
     "execution_count": 29,
     "metadata": {},
     "output_type": "execute_result"
    }
   ],
   "source": [
    "# Return a flattened array\n",
    "np.ravel(array2)"
   ]
  },
  {
   "cell_type": "code",
   "execution_count": 31,
   "id": "bb0c762b-c81f-43f8-9387-11ed1ad40be3",
   "metadata": {},
   "outputs": [
    {
     "data": {
      "text/plain": [
       "array([[1, 2, 3],\n",
       "       [4, 5, 6]])"
      ]
     },
     "execution_count": 31,
     "metadata": {},
     "output_type": "execute_result"
    }
   ],
   "source": [
    "# Resize array to a 2 by 3 array\n",
    "np.resize(array2, (2, 3))"
   ]
  },
  {
   "cell_type": "code",
   "execution_count": 33,
   "id": "261aa3fa-7f4c-47d1-90c9-288537d99f4e",
   "metadata": {},
   "outputs": [
    {
     "data": {
      "text/plain": [
       "array([[1, 3, 5],\n",
       "       [2, 4, 6]])"
      ]
     },
     "execution_count": 33,
     "metadata": {},
     "output_type": "execute_result"
    }
   ],
   "source": [
    "# Transpose the array\n",
    "np.transpose(array2)"
   ]
  },
  {
   "cell_type": "markdown",
   "id": "3306b32e-a14c-4658-9be1-538559d55c06",
   "metadata": {},
   "source": [
    "## 2.5.4: Math operators and functions"
   ]
  },
  {
   "cell_type": "code",
   "execution_count": 36,
   "id": "a13a6281-739c-40f5-8eab-90abc271c4a7",
   "metadata": {},
   "outputs": [
    {
     "data": {
      "text/plain": [
       "array([[1, 2],\n",
       "       [3, 4]])"
      ]
     },
     "execution_count": 36,
     "metadata": {},
     "output_type": "execute_result"
    }
   ],
   "source": [
    "# Create array1\n",
    "array1 = np.array([[1, 2], [3, 4]])\n",
    "array1"
   ]
  },
  {
   "cell_type": "code",
   "execution_count": 38,
   "id": "ad6ad8e4-d618-4794-b8fa-20dd8308e8bc",
   "metadata": {},
   "outputs": [
    {
     "data": {
      "text/plain": [
       "array([[5, 6],\n",
       "       [7, 8]])"
      ]
     },
     "execution_count": 38,
     "metadata": {},
     "output_type": "execute_result"
    }
   ],
   "source": [
    "# Create array2\n",
    "array2 = np.array([[5, 6], [7, 8]])\n",
    "array2"
   ]
  },
  {
   "cell_type": "code",
   "execution_count": 40,
   "id": "f1ead64e-2e13-473c-be4c-fa6ede445ef5",
   "metadata": {},
   "outputs": [
    {
     "data": {
      "text/plain": [
       "array([[ 6,  8],\n",
       "       [10, 12]])"
      ]
     },
     "execution_count": 40,
     "metadata": {},
     "output_type": "execute_result"
    }
   ],
   "source": [
    "# Add array1 and array2\n",
    "array1 + array2"
   ]
  },
  {
   "cell_type": "code",
   "execution_count": 42,
   "id": "879cf93e-f63f-4e96-a214-4a99fea6d7d2",
   "metadata": {},
   "outputs": [
    {
     "data": {
      "text/plain": [
       "array([[-4, -4],\n",
       "       [-4, -4]])"
      ]
     },
     "execution_count": 42,
     "metadata": {},
     "output_type": "execute_result"
    }
   ],
   "source": [
    "# Subtract array1 and array2\n",
    "array1 - array2"
   ]
  },
  {
   "cell_type": "code",
   "execution_count": 44,
   "id": "b9646ce5-4bf6-4273-8956-f1052f01490a",
   "metadata": {},
   "outputs": [
    {
     "data": {
      "text/plain": [
       "array([[ 5, 12],\n",
       "       [21, 32]])"
      ]
     },
     "execution_count": 44,
     "metadata": {},
     "output_type": "execute_result"
    }
   ],
   "source": [
    "# Multiply array1 and array2\n",
    "array1 * array2"
   ]
  },
  {
   "cell_type": "code",
   "execution_count": 46,
   "id": "906856e3-9171-4310-b7df-80848a2e0800",
   "metadata": {},
   "outputs": [
    {
     "data": {
      "text/plain": [
       "array([[0.2       , 0.33333333],\n",
       "       [0.42857143, 0.5       ]])"
      ]
     },
     "execution_count": 46,
     "metadata": {},
     "output_type": "execute_result"
    }
   ],
   "source": [
    "# Divide array1 by array2\n",
    "array1 / array2"
   ]
  },
  {
   "cell_type": "code",
   "execution_count": 48,
   "id": "68b21e08-ee06-4dbb-806a-adeb294b5582",
   "metadata": {},
   "outputs": [
    {
     "data": {
      "text/plain": [
       "array([[2.23606798, 2.44948974],\n",
       "       [2.64575131, 2.82842712]])"
      ]
     },
     "execution_count": 48,
     "metadata": {},
     "output_type": "execute_result"
    }
   ],
   "source": [
    "# Find square root of array 2 elements\n",
    "np.sqrt(array2)"
   ]
  },
  {
   "cell_type": "code",
   "execution_count": 50,
   "id": "391dfa64-1f76-4d7d-aa35-433fdecb90ac",
   "metadata": {},
   "outputs": [
    {
     "data": {
      "text/plain": [
       "array([[19, 22],\n",
       "       [43, 50]])"
      ]
     },
     "execution_count": 50,
     "metadata": {},
     "output_type": "execute_result"
    }
   ],
   "source": [
    "# Find the dot product of rows of array1 and columns of array2\n",
    "np.dot(array1, array2)"
   ]
  },
  {
   "cell_type": "code",
   "execution_count": null,
   "id": "ec5c64f2-7c1d-433b-9785-2515b107ec72",
   "metadata": {},
   "outputs": [],
   "source": []
  },
  {
   "cell_type": "code",
   "execution_count": null,
   "id": "ab2863b2-007b-4150-abf7-52f78191fd34",
   "metadata": {},
   "outputs": [],
   "source": []
  },
  {
   "cell_type": "code",
   "execution_count": null,
   "id": "12c19f8f-b3bf-4355-aafd-78639bd751c8",
   "metadata": {},
   "outputs": [],
   "source": []
  },
  {
   "cell_type": "code",
   "execution_count": null,
   "id": "3cab3f04-1de6-4276-b7e8-a2128a6bb98b",
   "metadata": {},
   "outputs": [],
   "source": []
  }
 ],
 "metadata": {
  "kernelspec": {
   "display_name": "Python [conda env:base] *",
   "language": "python",
   "name": "conda-base-py"
  },
  "language_info": {
   "codemirror_mode": {
    "name": "ipython",
    "version": 3
   },
   "file_extension": ".py",
   "mimetype": "text/x-python",
   "name": "python",
   "nbconvert_exporter": "python",
   "pygments_lexer": "ipython3",
   "version": "3.12.7"
  },
  "widgets": {
   "application/vnd.jupyter.widget-state+json": {
    "state": {},
    "version_major": 2,
    "version_minor": 0
   }
  }
 },
 "nbformat": 4,
 "nbformat_minor": 5
}
